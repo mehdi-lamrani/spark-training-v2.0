{
 "cells": [
  {
   "cell_type": "code",
   "execution_count": null,
   "metadata": {},
   "outputs": [],
   "source": [
    "sc"
   ]
  },
  {
   "cell_type": "code",
   "execution_count": null,
   "metadata": {},
   "outputs": [],
   "source": [
    "from pyspark.sql.types import *\n",
    "\n",
    "# Movies \n",
    "\n",
    "# Define a Schema \n",
    "\n",
    "moviesStruct = [StructField(\"movieId\", IntegerType(), True),\n",
    "\tStructField(\"title\", StringType(), True),\n",
    "\tStructField(\"genres\", StringType(), True)]\n",
    "\n",
    "moviesSchema = StructType(moviesStruct)"
   ]
  },
  {
   "cell_type": "code",
   "execution_count": null,
   "metadata": {},
   "outputs": [],
   "source": [
    "# Define Movies Dataframe\n",
    "\n",
    "moviesDf = spark.read \\\n",
    "    .format(\"csv\") \\\n",
    "    .option(\"header\", \"true\") \\\n",
    "    .schema(moviesSchema) \\\n",
    "    .load(\"hdfs:///user/hadoop/movielens/movies.csv\")"
   ]
  },
  {
   "cell_type": "code",
   "execution_count": null,
   "metadata": {},
   "outputs": [],
   "source": [
    "# Save as Table\n",
    "\n",
    "moviesDf.write.option(\"path\", \"/tmp/movies\").saveAsTable(\"movies\")\n",
    "\n",
    "# In case you experience issues with table creation : \n",
    "# spark.sql(\"create database db_yourname\")\n",
    "# moviesDf.write.option(\"path\", \"/tmp/movies\").saveAsTable(\"db_yourname.movies\")\n",
    "\n",
    "# ACHTUNG : IF YOU DO SO YOU MUST ALSO ADD THAT PREFIX \n",
    "# IN THE REST OF THE WORKSHOP IN THE NEXT CELL\n",
    "# AND IN THE SPARK SHELL AS WELL (NEXT PART)"
   ]
  },
  {
   "cell_type": "code",
   "execution_count": null,
   "metadata": {},
   "outputs": [],
   "source": [
    "# Play Around \n",
    "\n",
    "spark.sql(\"select * from movies\").show()\n",
    "spark.sql(\"select * from movies\").show(20, False)\n",
    "\n",
    "\n",
    "df = spark.sql(\"select * from movies\")\n",
    "df.filter(df.genres.contains('Drama')).show(20, False)"
   ]
  },
  {
   "cell_type": "code",
   "execution_count": null,
   "metadata": {},
   "outputs": [],
   "source": [
    "# Save as Table \n",
    "\n",
    "# spark.sql(\"Drop table movies\")\n",
    "# hdfs dfs -rm -r /tmp/movies\n",
    "\n",
    "# Define Ratings Schema \n",
    "\n",
    "ratingsStruct = [StructField(\"userId\", IntegerType(), True),\n",
    "\tStructField(\"movieId\", IntegerType(), True),\n",
    "\tStructField(\"rating\", DoubleType(), True),\n",
    "\tStructField(\"timestamp\", IntegerType(), True)]\n",
    "\n",
    "ratingsSchema = StructType(ratingsStruct)"
   ]
  },
  {
   "cell_type": "code",
   "execution_count": null,
   "metadata": {},
   "outputs": [],
   "source": [
    "# Define Ratings Dataframe \n",
    "\n",
    "ratingsDf = spark.read \\\n",
    "    .format(\"csv\") \\\n",
    "    .option(\"header\", \"true\") \\\n",
    "    .schema(ratingsSchema) \\\n",
    "    .load(\"hdfs:///user/hadoop/movielens/ratings.csv\")\n",
    "\n",
    "ratingsDf.write.option(\"path\", \"/tmp/ratings\").saveAsTable(\"ratings\")\n",
    "\n",
    "spark.sql(\"select * from ratings\").show()"
   ]
  },
  {
   "cell_type": "code",
   "execution_count": null,
   "metadata": {},
   "outputs": [],
   "source": [
    "# Define Tag Schema \n",
    "\n",
    "tagsStruct = [StructField(\"userId\", IntegerType(), True),\n",
    "\tStructField(\"movieId\", IntegerType(), True),\n",
    "\tStructField(\"tag\", StringType(), True),\n",
    "\tStructField(\"timestamp\", IntegerType(), True)]\n",
    "\n",
    "\n",
    "tagsSchema = StructType(tagsStruct)"
   ]
  },
  {
   "cell_type": "code",
   "execution_count": null,
   "metadata": {},
   "outputs": [],
   "source": [
    "# Define Tags DataFrame \n",
    "\n",
    "tagsDf = spark.read \\\n",
    "    .format(\"csv\") \\\n",
    "    .option(\"header\", \"true\") \\\n",
    "    .schema(tagsSchema) \\\n",
    "    .load(\"hdfs:///user/hadoop/movielens/tags.csv\")\n",
    "\n",
    "tagsDf.write.option(\"path\", \"/tmp/tags\").saveAsTable(\"tags\")\n",
    "\n",
    "spark.sql(\"select * from tags\").show()"
   ]
  },
  {
   "cell_type": "code",
   "execution_count": null,
   "metadata": {},
   "outputs": [],
   "source": [
    "# Define Link Schema\n",
    "\n",
    "linksStruct = [StructField(\"movieId\", IntegerType(), True),\n",
    "\tStructField(\"imdbId\", IntegerType(), True),\n",
    "\tStructField(\"tmdbId\", IntegerType(), True)]\n",
    "\n",
    "linksSchema = StructType(linksStruct)\n",
    "\n",
    "# Define Link DataFrame (REF)\n",
    "\n",
    "linksDf = spark.read \\\n",
    "    .format(\"csv\") \\\n",
    "    .option(\"header\", \"true\") \\\n",
    "    .schema(linksSchema) \\\n",
    "    .load(\"hdfs:///user/hadoop/movielens/links.csv\")\n",
    "\n",
    "linksDf.write.option(\"path\", \"/tmp/links\").saveAsTable(\"links\")\n",
    "\n",
    "spark.sql(\"select * from links\").show()"
   ]
  }
 ],
 "metadata": {
  "kernelspec": {
   "display_name": "PySpark",
   "language": "",
   "name": "pysparkkernel"
  },
  "language_info": {
   "codemirror_mode": {
    "name": "python",
    "version": 3
   },
   "mimetype": "text/x-python",
   "name": "pyspark",
   "pygments_lexer": "python3"
  }
 },
 "nbformat": 4,
 "nbformat_minor": 4
}
